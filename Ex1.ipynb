{
 "cells": [
  {
   "cell_type": "code",
   "execution_count": 1,
   "metadata": {},
   "outputs": [],
   "source": [
    "import numpy as np\n",
    "from random import seed\n",
    "from random import random\n",
    "import statistics\n",
    "import math\n",
    "import matplotlib.pyplot as plt\n",
    "\n",
    "# seed random number generator\n",
    "seed(1)"
   ]
  },
  {
   "cell_type": "code",
   "execution_count": 4,
   "metadata": {},
   "outputs": [],
   "source": [
    "total_time_steps, length  = 1000, 1000;\n",
    "height_surface = [0]*length \n",
    "average_heigth = [0]*total_time_steps\n",
    "W = [0]*total_time_steps\n",
    "logW = [0]*total_time_steps\n",
    "logtime = [0]*total_time_steps\n",
    "\n",
    "W_sum = 0\n",
    "for time in range(1,total_time_steps):\n",
    "    i = int(random()*length)\n",
    "    height_surface[i] += 1\n",
    "    average_heigth[time] = statistics.mean(height_surface)\n",
    "    W_sum = 0\n",
    "    for l in range(length):\n",
    "        W_sum += (height_surface[l] - average_heigth[time])**2\n",
    "    W[time] = math.sqrt(W_sum / length)\n",
    "    logW[time] = math.log(W[time])\n",
    "    logtime[time] = math.log(time)\n",
    "\n"
   ]
  },
  {
   "cell_type": "code",
   "execution_count": null,
   "metadata": {},
   "outputs": [],
   "source": []
  },
  {
   "cell_type": "code",
   "execution_count": null,
   "metadata": {},
   "outputs": [],
   "source": []
  },
  {
   "cell_type": "code",
   "execution_count": null,
   "metadata": {},
   "outputs": [],
   "source": []
  },
  {
   "cell_type": "code",
   "execution_count": 16,
   "metadata": {},
   "outputs": [
    {
     "data": {
      "text/plain": [
       "[<matplotlib.lines.Line2D at 0x2250de6f7f0>]"
      ]
     },
     "execution_count": 16,
     "metadata": {},
     "output_type": "execute_result"
    },
    {
     "data": {
      "image/png": "[encoded data removed]",
      "text/plain": [
       "<Figure size 432x288 with 1 Axes>"
      ]
     },
     "metadata": {
      "needs_background": "light"
     },
     "output_type": "display_data"
    }
   ],
   "source": [
    "\n"
   ]
  },
  {
   "cell_type": "code",
   "execution_count": 17,
   "metadata": {},
   "outputs": [
    {
     "data": {
      "text/plain": [
       "[<matplotlib.lines.Line2D at 0x2250ded2668>]"
      ]
     },
     "execution_count": 17,
     "metadata": {},
     "output_type": "execute_result"
    },
    {
     "data": {
      "image/png": "[encoded data removed]",
      "text/plain": [
       "<Figure size 432x288 with 1 Axes>"
      ]
     },
     "metadata": {
      "needs_background": "light"
     },
     "output_type": "display_data"
    }
   ],
   "source": [
    "plt.plot(range(total_time_steps),W )"
   ]
  },
  {
   "cell_type": "code",
   "execution_count": 204,
   "metadata": {},
   "outputs": [],
   "source": [
    "tx = []\n",
    "wx = []\n",
    "b_base = 0\n",
    "\n",
    "\n",
    "\n",
    "def dynamic_roughness(diff_vec):\n",
    "    i = 0\n",
    "  #  print(diff_vec)\n",
    "    for dif in diff_vec:\n",
    "        i += 1\n",
    "        \n",
    "        if dif > 3*10**(-2):\n",
    "            print (i)\n",
    "            return i\n",
    "        \n",
    "\n",
    "def model(deposition_model,length,total_time_steps):\n",
    "    height_surface = [0]*length \n",
    "    average_heigth = [0]*total_time_steps\n",
    "    W = [0]*total_time_steps\n",
    "    logW = [0]*total_time_steps\n",
    "    logtime = [0]*total_time_steps\n",
    "    global b_base\n",
    "    #Random Deposition\n",
    "    if (deposition_model == \"Random\"):\n",
    "        W_sum = 0\n",
    "        for time in range(1,total_time_steps):\n",
    "            i = int(random()*length)\n",
    "            height_surface[i] += 1\n",
    "            average_heigth[time] = statistics.mean(height_surface)\n",
    "            W_sum = 0\n",
    "            for l in range(length):\n",
    "                W_sum += (height_surface[l] - average_heigth[time])**2\n",
    "            W[time] = math.sqrt(W_sum / length)\n",
    "            logW[time] = math.log(W[time])\n",
    "            logtime[time] = math.log(time)\n",
    "        plt.plot(logtime[1:], logW[1:])\n",
    "    #Ballistic Deposition\n",
    "    elif (deposition_model == \"Ballistic\"):\n",
    "        W_sum = 0\n",
    "       \n",
    "        for time in range(1,total_time_steps):\n",
    "            #Updating Procedure\n",
    "            i = int(random()*length)\n",
    "            if (i == 0):\n",
    "                a = length-1\n",
    "                b = 0\n",
    "                c = 1\n",
    "            elif (i == length-1):\n",
    "                a = i-1\n",
    "                b = i\n",
    "                c = 0\n",
    "            elif( i != length):\n",
    "                a = i-1\n",
    "                b = i\n",
    "                c = i+1\n",
    "            \n",
    "            temp_list = [height_surface[a],height_surface[b],height_surface[c]]\n",
    "            if height_surface[a] < height_surface[b] and height_surface[c] < height_surface[b] and height_surface[a] == height_surface[c]:\n",
    "                r = random()\n",
    "                sel_index = math.floor(r-0.5) + math.ceil(r-0.5)\n",
    "            else: \n",
    "                sel_index = np.argmin(np.array(temp_list))-1\n",
    "            \n",
    "            #print(i+sel_index)\n",
    "            height_surface[(i+sel_index)%length] += 1\n",
    "            \n",
    "            average_heigth[time] = statistics.mean(height_surface)\n",
    "            W_sum = 0\n",
    "            for l in range(length):\n",
    "                W_sum += (height_surface[l] - average_heigth[time])**2\n",
    "                \n",
    "            W[time] = math.sqrt(W_sum / length)\n",
    "           # print(W[time])\n",
    "            logW[time] = math.log(W[time])\n",
    "            logtime[time] = math.log(time)\n",
    "        \n",
    "        fitplottime = np.array(logtime)\n",
    "        fitplotW = np.array(logW)\n",
    "        #plt.loglog(range(1,total_time_steps),W[1:]) #basex=np.e, basey=np.e)\n",
    "        m, b = np.polyfit(fitplottime[1:10**2], fitplotW[1:10**2], 1)\n",
    "        if length == 1000:\n",
    "            b_base = b \n",
    "        plt.plot(logtime[1:], logW[1:]-b+b_base , label = \"L = \" + str(length))\n",
    "        plt.plot(fitplottime[1:10**3], m*fitplottime[1:10**3]+b_base)\n",
    "\n",
    "        #plt.plot(range(1,total_time_steps), logW[1:])\n",
    "        print(m,b)\n",
    "        #print((m*fitplottime[1:10**3] + b - logW[1:10**3]))#/abs(m*fitplottime[1:10**3] + b))\n",
    "        txwx_index = dynamic_roughness(m*fitplottime[1:10**3] - logW[1:10**3] + b)\n",
    "        print(logW[txwx_index]-b+b_base)\n",
    "        plt.plot(fitplottime[1:10**3],np.array([fitplotW[txwx_index]-b+b_base]*(10**3-1)))\n",
    "        tx.append(fitplottime[txwx_index])\n",
    "        wx.append(fitplotW[txwx_index]-b+b_base)\n",
    "    #NNModified\n",
    "    elif (deposition_model == \"NNModified\"):\n",
    "            for time in range(1,total_time_steps):\n",
    "                #Updating Procedure\n",
    "                i = int(random()*length)%length\n",
    "                if (i != 0 and i != length-1):\n",
    "                    if(height_surface[i] >= height_surface[i-1] and height_surface[i] >= height_surface[i+1]):\n",
    "                        height_surface[i] += 1\n",
    "                    elif(height_surface[i-1] >= height_surface[i+1]):\n",
    "                        height_surface[i] += (height_surface[i-1]-height_surface[i])\n",
    "                    elif(height_surface[i-1] < height_surface[i+1]):\n",
    "                        height_surface[i] += (height_surface[i+1]-height_surface[i])\n",
    "                        \n",
    "                elif(i == 0):\n",
    "                    if(height_surface[i] < height_surface[i+1]):\n",
    "                        height_surface[i] += (height_surface[i+1]-height_surface[i])\n",
    "                    else:\n",
    "                        height_surface[i] += 1\n",
    "                elif(i == length-1):\n",
    "                    if(height_surface[i] < height_surface[i-1]):\n",
    "                        height_surface[i] += (height_surface[i-1]-height_surface[i])\n",
    "                    else:\n",
    "                        height_surface[i] += 1\n",
    "\n",
    "                average_heigth[time] = statistics.mean(height_surface)\n",
    "                W_sum = 0\n",
    "                for l in range(length):\n",
    "                    W_sum += (height_surface[l] - average_heigth[time])**2\n",
    "                \n",
    "                W[time] = math.sqrt(W_sum / length)\n",
    "               # print(W[time])\n",
    "                logW[time] = math.log(W[time])\n",
    "                logtime[time] = math.log(time)\n",
    "\n",
    "            fitplottime = np.array(logtime)\n",
    "            fitplotW = np.array(logW)\n",
    "            #plt.loglog(range(1,total_time_steps),W[1:]) #basex=np.e, basey=np.e)\n",
    "            m, b = np.polyfit(fitplottime[1:10**2], fitplotW[1:10**2], 1)\n",
    "            plt.plot(logtime[1:], logW[1:])\n",
    "            plt.plot(fitplottime[1:10**3], m*fitplottime[1:10**3])\n",
    "\n",
    "            #plt.plot(range(1,total_time_steps), logW[1:])\n",
    "            print(m,b)\n",
    "\n",
    "            \n",
    "#model(\"Ballistic\",1000,1000)"
   ]
  },
  {
   "cell_type": "code",
   "execution_count": 207,
   "metadata": {
    "scrolled": true
   },
   "outputs": [
    {
     "name": "stdout",
     "output_type": "stream",
     "text": [
      "0.48546767350243475 -3.427032961974083\n",
      "140\n",
      "-1.0584678730537167\n",
      "0.4929035779447732 -3.7874207268311433\n",
      "208\n",
      "-0.8262018580669075\n"
     ]
    },
    {
     "data": {
      "image/png": "[encoded data removed]",
      "text/plain": [
       "<Figure size 432x288 with 1 Axes>"
      ]
     },
     "metadata": {
      "needs_background": "light"
     },
     "output_type": "display_data"
    }
   ],
   "source": [
    "#model(\"NNModified\",1000,10000)\n",
    "plt.figure()\n",
    "\n",
    "L = [1000,2000,3000,4000,5000,6000]\n",
    "\n",
    "model(\"Ballistic\",L[0],10000)\n",
    "model(\"Ballistic\",L[1],10000)\n",
    "#model(\"Ballistic\",L[2],10000,ax)\n",
    "#model(\"Ballistic\",L[3],10000)\n",
    "#model(\"Ballistic\",L[4],10000)\n",
    "#model(\"Ballistic\",L[5],10000)\n",
    "plt.legend(loc = \"lower right\")\n",
    "plt.xlabel(\"ln(L)\")\n",
    "plt.ylabel(\"ln(W)\")\n",
    "\n",
    "#model(\"Ballistic\",4000,10000)\n",
    "\n",
    "#print ( tx , wx)\n",
    "#L = [1000,2000,3000,4000]\n",
    "\n",
    "#plt.(L,wx)\n",
    "\n",
    "\n",
    "\n",
    "log = lambda t: math.log(t)\n",
    "logL = np.array([log(Li) for Li in L])\n",
    "#model(\"Ballistic\",10000,10000)\n"
   ]
  },
  {
   "cell_type": "code",
   "execution_count": 188,
   "metadata": {},
   "outputs": [],
   "source": []
  },
  {
   "cell_type": "code",
   "execution_count": 175,
   "metadata": {},
   "outputs": [
    {
     "name": "stdout",
     "output_type": "stream",
     "text": [
      "[4.941642422609304, 5.337538079701318, 5.6131281063880705, 5.820082930352362, 5.991464547107982, 6.135564891081739]\n"
     ]
    }
   ],
   "source": [
    "del tx[0]\n",
    "print(tx)"
   ]
  },
  {
   "cell_type": "code",
   "execution_count": 172,
   "metadata": {},
   "outputs": [
    {
     "name": "stdout",
     "output_type": "stream",
     "text": [
      "[6.90775528 7.60090246 8.00636757 8.29404964 8.51719319 8.69951475]\n"
     ]
    }
   ],
   "source": [
    "print(logL)"
   ]
  },
  {
   "cell_type": "code",
   "execution_count": 170,
   "metadata": {},
   "outputs": [
    {
     "name": "stdout",
     "output_type": "stream",
     "text": [
      "0.3654469018469421\n"
     ]
    },
    {
     "data": {
      "image/png": "[encoded data removed]",
      "text/plain": [
       "<Figure size 432x288 with 1 Axes>"
      ]
     },
     "metadata": {
      "needs_background": "light"
     },
     "output_type": "display_data"
    }
   ],
   "source": [
    "plt.plot(logL,wx,\"ro-\")\n",
    "plt.xlabel(\"ln(L)\")\n",
    "plt.ylabel(\"ln(wx)\")\n",
    "\n",
    "mw, bw = np.polyfit(logL, wx, 1)\n",
    "print(mw)\n",
    "\n"
   ]
  },
  {
   "cell_type": "code",
   "execution_count": 182,
   "metadata": {},
   "outputs": [
    {
     "name": "stdout",
     "output_type": "stream",
     "text": [
      "0.6671445750695223\n"
     ]
    },
    {
     "data": {
      "image/png": "[encoded data removed]",
      "text/plain": [
       "<Figure size 432x288 with 1 Axes>"
      ]
     },
     "metadata": {
      "needs_background": "light"
     },
     "output_type": "display_data"
    }
   ],
   "source": [
    "fig = plt.figure()\n",
    "ax = fig.add_axes([0,0,1,1])\n",
    "\n",
    "ax.plot(logL,tx,\"ro-\")\n",
    "ax.set_xlabel(\"ln(L)\")\n",
    "ax.set_ylabel(\"ln(tx)\")\n",
    "\n",
    "mx, bx = np.polyfit(logL, tx, 1)\n",
    "print(mx)\n"
   ]
  },
  {
   "cell_type": "code",
   "execution_count": null,
   "metadata": {},
   "outputs": [],
   "source": []
  }
 ],
 "metadata": {
  "kernelspec": {
   "display_name": "Python 3",
   "language": "python",
   "name": "python3"
  },
  "language_info": {
   "codemirror_mode": {
    "name": "ipython",
    "version": 3
   },
   "file_extension": ".py",
   "mimetype": "text/x-python",
   "name": "python",
   "nbconvert_exporter": "python",
   "pygments_lexer": "ipython3",
   "version": "3.7.3"
  }
 },
 "nbformat": 4,
 "nbformat_minor": 2
}
