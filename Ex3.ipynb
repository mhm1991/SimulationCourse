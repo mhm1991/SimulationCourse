{
 "cells": [
  {
   "cell_type": "code",
   "execution_count": 50,
   "metadata": {},
   "outputs": [
    {
     "data": {
      "text/plain": [
       "-1"
      ]
     },
     "execution_count": 50,
     "metadata": {},
     "output_type": "execute_result"
    }
   ],
   "source": []
  },
  {
   "cell_type": "code",
   "execution_count": 69,
   "metadata": {},
   "outputs": [
    {
     "data": {
      "image/png": "[encoded data removed]",
      "text/plain": [
       "<Figure size 432x288 with 1 Axes>"
      ]
     },
     "metadata": {
      "needs_background": "light"
     },
     "output_type": "display_data"
    }
   ],
   "source": [
    "import numpy as np\n",
    "import math as math\n",
    "import matplotlib.pyplot as plt\n",
    "from math import sqrt\n",
    "from random import seed\n",
    "from random import random\n",
    "from time import time\n",
    "import statistics as stat\n",
    "\n",
    "duration = 10**2\n",
    "ensemble_size = 10**4\n",
    "number_of_time_lapses = duration\n",
    "number_of_bins = number_of_time_lapses\n",
    "bx = 1\n",
    "by = 1\n",
    "\n",
    "plt.rc('text', usetex=True)\n",
    "fig = plt.figure()\n",
    "ax = fig.add_subplot(1, 1, 1)\n",
    "x = list(range(number_of_time_lapses))\n",
    "y = list(range(number_of_time_lapses))\n",
    "r = list(range(number_of_time_lapses))\n",
    "x[0] = 0\n",
    "y[0] = 0\n",
    "datax = []\n",
    "datay = []\n",
    "\n",
    "def get_gyration_endtoend_radius(number_of_chains = 100,show = False):\n",
    "    \n",
    "    global datax \n",
    "    global datay\n",
    "    global x,y,r\n",
    "    global Rg,Rf\n",
    "    Rg = list(range(ensemble_size))\n",
    "    Rf = list(range(ensemble_size))\n",
    "    x = list(range(number_of_chains))\n",
    "    y = list(range(number_of_chains))\n",
    "    r = list(range(number_of_chains))\n",
    "    x[0] = 0\n",
    "    y[0] = 0\n",
    "    \n",
    "    datax = []\n",
    "    datay = []\n",
    "    for _iter in range(ensemble_size):\n",
    "        seed(_iter)\n",
    "        for i in range(1,number_of_chains):\n",
    "            b = random()\n",
    "            x[i] = x[i-1] + (math.floor(b - 0.5) + math.ceil(b - 0.5))*bx\n",
    "            datax.append(x[i])\n",
    "            b = random()\n",
    "            y[i] = y[i-1] + (math.floor(b - 0.5) + math.ceil(b - 0.5))*by\n",
    "            datay.append(y[i])\n",
    "            r[i] = sqrt(x[i]**2 + y[i] ** 2)\n",
    "        Rg[_iter] = np.mean(r)\n",
    "        Rf[_iter] = math.sqrt((x[number_of_chains-1] - x[1])**2+ (y[number_of_chains-1] - y[1])**2)\n",
    "\n",
    "    Rg_mean = np.mean(Rg)\n",
    "    Rf_mean = np.mean(Rf)\n",
    "    print(Rg_mean)\n",
    "    if (show == True):\n",
    "        handles, labels = ax.get_legend_handles_labels()\n",
    "        ax.legend(handles[::-1],labels[::-1],title ='Peclet Numbers',loc = 'upper left')\n",
    "        cord = np.empty((2,number_of_time_lapses))\n",
    "        cord[0,:] = x\n",
    "        cord[1,:] = y\n",
    "    return (Rg_mean,Rf_mean)\n",
    "#avg_dist = dist_tau/avg_count\n",
    "#print(avg_dist)"
   ]
  },
  {
   "cell_type": "code",
   "execution_count": 38,
   "metadata": {},
   "outputs": [
    {
     "name": "stdout",
     "output_type": "stream",
     "text": [
      "8.252384971473909\n"
     ]
    },
    {
     "data": {
      "text/plain": [
       "8.252384971473909"
      ]
     },
     "execution_count": 38,
     "metadata": {},
     "output_type": "execute_result"
    }
   ],
   "source": [
    "get_gyration_radius(100)"
   ]
  },
  {
   "cell_type": "code",
   "execution_count": 24,
   "metadata": {},
   "outputs": [
    {
     "data": {
      "text/plain": [
       "Text(0, 0.5, '$P(x)$')"
      ]
     },
     "execution_count": 24,
     "metadata": {},
     "output_type": "execute_result"
    },
    {
     "data": {
      "image/png": "[encoded data removed]",
      "text/plain": [
       "<Figure size 432x288 with 1 Axes>"
      ]
     },
     "metadata": {
      "needs_background": "light"
     },
     "output_type": "display_data"
    }
   ],
   "source": [
    "counts, bins = np.histogram(datay,bins = 100)\n",
    "\n",
    "plt.hist(bins[:-1], bins, weights=counts)\n",
    "plt.title(\"The normalized P(x)\")\n",
    "plt.xlabel(\"$x_{bins}$\")\n",
    "plt.ylabel(\"$P(x)$\")"
   ]
  },
  {
   "cell_type": "code",
   "execution_count": null,
   "metadata": {},
   "outputs": [],
   "source": []
  },
  {
   "cell_type": "code",
   "execution_count": null,
   "metadata": {},
   "outputs": [],
   "source": []
  },
  {
   "cell_type": "code",
   "execution_count": 25,
   "metadata": {},
   "outputs": [
    {
     "data": {
      "text/plain": [
       "Text(0, 0.5, '$P(y)$')"
      ]
     },
     "execution_count": 25,
     "metadata": {},
     "output_type": "execute_result"
    },
    {
     "data": {
      "image/png": "[encoded data removed]",
      "text/plain": [
       "<Figure size 432x288 with 1 Axes>"
      ]
     },
     "metadata": {
      "needs_background": "light"
     },
     "output_type": "display_data"
    }
   ],
   "source": [
    "counts, bins = np.histogram(datay,bins = 100)\n",
    "\n",
    "plt.hist(bins[:-1], bins, weights=counts)\n",
    "plt.title(\"The normalized P(y)\")\n",
    "plt.xlabel(\"$y_{bins}$\")\n",
    "plt.ylabel(\"$P(y)$\")"
   ]
  },
  {
   "cell_type": "code",
   "execution_count": 26,
   "metadata": {},
   "outputs": [
    {
     "data": {
      "text/plain": [
       "Text(0.5, 1.0, 'Polymer Simulation')"
      ]
     },
     "execution_count": 26,
     "metadata": {},
     "output_type": "execute_result"
    },
    {
     "data": {
      "image/png": "[encoded data removed]",
      "text/plain": [
       "<Figure size 432x288 with 1 Axes>"
      ]
     },
     "metadata": {
      "needs_background": "light"
     },
     "output_type": "display_data"
    }
   ],
   "source": [
    "\n",
    "xlim = np.linspace(-10, 10, number_of_time_lapses)\n",
    "ylim = np.linspace(-10, 10, number_of_time_lapses)\n",
    "X, Y = np.meshgrid(xlim,ylim)\n",
    "F = X**2 + Y**2 - Rg_mean**2\n",
    "\n",
    "fig, ax = plt.subplots()\n",
    "ax.contour(X,Y,F,[0])\n",
    "ax.plot(cord[0],cord[1])\n",
    "ax.plot(cord[0,0],cord[1,0], 'go')\n",
    "ax.plot(cord[0,-1], cord[1,-1], 'ro')\n",
    "demo = \"Averaged gyration radius of \"+str(ensemble_size)+\" Polymers\"\n",
    "ax.annotate(demo, xy=(Rg_mean/sqrt(2), Rg_mean/sqrt(2)),  xycoords='data',\n",
    "            xytext=(1, 1), textcoords='axes fraction',\n",
    "            arrowprops=dict(facecolor='Orange', shrink=0.05),\n",
    "            horizontalalignment='left', verticalalignment='top',\n",
    "            )\n",
    "ax.axis('equal')\n",
    "ax.grid(True)\n",
    "plt.xlabel(\"$x$\")\n",
    "plt.ylabel(\"$y$\")\n",
    "plt.title('Polymer Simulation', fontsize=8)"
   ]
  },
  {
   "cell_type": "code",
   "execution_count": 72,
   "metadata": {},
   "outputs": [
    {
     "name": "stdout",
     "output_type": "stream",
     "text": [
      "8.252384971473909\n",
      "11.766309151529997\n",
      "18.696809732531307\n",
      "26.404944880305447\n"
     ]
    }
   ],
   "source": [
    "N = [100 , 200 , 500, 1000]\n",
    "Rg_N = []\n",
    "Rf_N = []\n",
    "for n in N:\n",
    "    rg_N,rf_N = get_gyration_endtoend_radius(n,False)\n",
    "    Rg_N.append(rg_N)\n",
    "    Rf_N.append(rf_N)\n",
    "\n"
   ]
  },
  {
   "cell_type": "code",
   "execution_count": 74,
   "metadata": {},
   "outputs": [
    {
     "name": "stdout",
     "output_type": "stream",
     "text": [
      "0.5051488836008016 -0.21345903716451753\n"
     ]
    },
    {
     "data": {
      "image/png": "[encoded data removed]",
      "text/plain": [
       "<Figure size 432x288 with 1 Axes>"
      ]
     },
     "metadata": {
      "needs_background": "light"
     },
     "output_type": "display_data"
    }
   ],
   "source": [
    "plt.loglog(N,Rg_N,\"-o\",)\n",
    "\n",
    "plt.xlabel(\"$ln(N)$\")\n",
    "plt.ylabel(\"$ln(R_g)$\")\n",
    "m,n =  np.polyfit(np.log(N),np.log(Rg_N),1)\n",
    "\n",
    "print (m , n)"
   ]
  },
  {
   "cell_type": "code",
   "execution_count": 75,
   "metadata": {},
   "outputs": [
    {
     "name": "stdout",
     "output_type": "stream",
     "text": [
      "0.5051126592035957 0.19131051072457983\n"
     ]
    },
    {
     "data": {
      "image/png": "[encoded data removed]",
      "text/plain": [
       "<Figure size 432x288 with 1 Axes>"
      ]
     },
     "metadata": {
      "needs_background": "light"
     },
     "output_type": "display_data"
    }
   ],
   "source": [
    "plt.loglog(N,Rf_N,\"-o\",)\n",
    "\n",
    "plt.xlabel(\"$ln(N)$\")\n",
    "plt.ylabel(\"$ln(Rf)$\")\n",
    "m,n =  np.polyfit(np.log(N),np.log(Rf_N),1)\n",
    "\n",
    "print (m , n)"
   ]
  },
  {
   "cell_type": "code",
   "execution_count": null,
   "metadata": {},
   "outputs": [],
   "source": []
  }
 ],
 "metadata": {
  "kernelspec": {
   "display_name": "Python 3",
   "language": "python",
   "name": "python3"
  },
  "language_info": {
   "codemirror_mode": {
    "name": "ipython",
    "version": 3
   },
   "file_extension": ".py",
   "mimetype": "text/x-python",
   "name": "python",
   "nbconvert_exporter": "python",
   "pygments_lexer": "ipython3",
   "version": "3.7.3"
  }
 },
 "nbformat": 4,
 "nbformat_minor": 2
}
