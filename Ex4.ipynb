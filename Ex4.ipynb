{
 "cells": [
  {
   "cell_type": "code",
   "execution_count": 41,
   "metadata": {},
   "outputs": [
    {
     "data": {
      "image/png": "[encoded data removed]",
      "text/plain": [
       "<Figure size 432x288 with 1 Axes>"
      ]
     },
     "metadata": {
      "needs_background": "light"
     },
     "output_type": "display_data"
    }
   ],
   "source": [
    "import numpy as np\n",
    "import math as math\n",
    "import matplotlib.pyplot as plt\n",
    "from math import sqrt\n",
    "from random import seed\n",
    "from random import random\n",
    "from time import time\n",
    "import statistics as stat\n",
    "\n",
    "duration = 10**2\n",
    "ensemble_size = 10**2\n",
    "number_of_time_lapses = duration\n",
    "number_of_bins = number_of_time_lapses\n",
    "bx = 1\n",
    "by = 1\n",
    "b = 1\n",
    "plt.rc('text', usetex=True)\n",
    "fig = plt.figure()\n",
    "ax = fig.add_subplot(1, 1, 1)\n",
    "x = list(range(number_of_time_lapses))\n",
    "y = list(range(number_of_time_lapses))\n",
    "r = list(range(number_of_time_lapses))\n",
    "x[0] = 0\n",
    "y[0] = 0\n",
    "datax = []\n",
    "datay = []\n",
    "cord = [[]]\n",
    "\n",
    "def get_gyration_endtoend_radius(number_of_chains = 200,show = False):\n",
    "    \n",
    "    global datax \n",
    "    global datay\n",
    "    global x,y,r\n",
    "    global Rg,Rf\n",
    "    global cord\n",
    "    Rg = list(range(ensemble_size))\n",
    "    Rf = list(range(ensemble_size))\n",
    "    x = list(range(number_of_chains))\n",
    "    y = list(range(number_of_chains))\n",
    "    r = list(range(number_of_chains))\n",
    "    x[0] = 0\n",
    "    x[1] = b\n",
    "    y[0] = 0\n",
    "    y[1] = 0\n",
    "    \n",
    "    datax = []\n",
    "    datay = []\n",
    "    for _iter in range(ensemble_size):\n",
    "        seed(_iter)\n",
    "        for i in range(1,number_of_chains-1):\n",
    "            r = random()\n",
    "            r = (math.floor(r - 0.5) + math.ceil(r - 0.5))\n",
    "            theta = math.atan((y[i]-y[i-1])/(x[i]-x[i-1]))\n",
    "            x[i+1] = x[i] + b*math.cos(theta+r*math.pi/3)\n",
    "            y[i+1] = y[i] + b*math.sin(theta+r*math.pi/3)\n",
    "                \n",
    "            \n",
    "            datax.append(x[i])\n",
    "            datay.append(y[i])\n",
    "        #Rg[_iter] = np.mean(r)\n",
    "        #Rf[_iter] = math.sqrt((x[number_of_chains-1] - x[1])**2+ (y[number_of_chains-1] - y[1])**2)\n",
    "\n",
    "    Rg_mean = 0\n",
    "    Rf_mean = 0\n",
    "    #print(Rg_mean)\n",
    "    if (show == True):\n",
    "        handles, labels = ax.get_legend_handles_labels()\n",
    "        ax.legend(handles[::-1],labels[::-1],title ='Peclet Numbers',loc = 'upper left')\n",
    "        cord = np.empty((2,number_of_chains))\n",
    "        cord[0,:] = x\n",
    "        cord[1,:] = y\n",
    "    return (Rg_mean,Rf_mean)\n",
    "#avg_dist = dist_tau/avg_count\n",
    "#print(avg_dist)"
   ]
  },
  {
   "cell_type": "code",
   "execution_count": 12,
   "metadata": {},
   "outputs": [
    {
     "data": {
      "text/plain": [
       "-0.7853981633974483"
      ]
     },
     "execution_count": 12,
     "metadata": {},
     "output_type": "execute_result"
    }
   ],
   "source": [
    "import math as math\n",
    "math.atan(-1)\n",
    "#math.cos(math.pi/3)"
   ]
  },
  {
   "cell_type": "code",
   "execution_count": 43,
   "metadata": {},
   "outputs": [
    {
     "data": {
      "text/plain": [
       "Text(0.5, 1.0, 'Polymer Simulation')"
      ]
     },
     "execution_count": 43,
     "metadata": {},
     "output_type": "execute_result"
    },
    {
     "data": {
      "image/png": "[encoded data removed]",
      "text/plain": [
       "<Figure size 432x288 with 1 Axes>"
      ]
     },
     "metadata": {
      "needs_background": "light"
     },
     "output_type": "display_data"
    }
   ],
   "source": [
    "Rg_mean,Rf_mean = get_gyration_endtoend_radius(200,True)\n",
    "xlim = np.linspace(-10, 10, number_of_time_lapses)\n",
    "ylim = np.linspace(-10, 10, number_of_time_lapses)\n",
    "X, Y = np.meshgrid(xlim,ylim)\n",
    "F = X**2 + Y**2 - Rg_mean**2\n",
    "\n",
    "fig, ax = plt.subplots()\n",
    "ax.contour(X,Y,F,[0])\n",
    "ax.plot(cord[0],cord[1])\n",
    "ax.plot(cord[0,0],cord[1,0], 'go')\n",
    "ax.plot(cord[0,-1], cord[1,-1], 'ro')\n",
    "demo = \"Averaged gyration radius of \"+str(ensemble_size)+\" Polymers\"\n",
    "ax.annotate(demo, xy=(Rg_mean/sqrt(2), Rg_mean/sqrt(2)),  xycoords='data',\n",
    "            xytext=(1, 1), textcoords='axes fraction',\n",
    "            arrowprops=dict(facecolor='Orange', shrink=0.05),\n",
    "            horizontalalignment='left', verticalalignment='top',\n",
    "            )\n",
    "ax.axis('equal')\n",
    "ax.grid(True)\n",
    "plt.xlabel(\"$x$\")\n",
    "plt.ylabel(\"$y$\")\n",
    "plt.title('Polymer Simulation', fontsize=8)"
   ]
  },
  {
   "cell_type": "code",
   "execution_count": null,
   "metadata": {},
   "outputs": [],
   "source": []
  }
 ],
 "metadata": {
  "kernelspec": {
   "display_name": "Python 3",
   "language": "python",
   "name": "python3"
  },
  "language_info": {
   "codemirror_mode": {
    "name": "ipython",
    "version": 3
   },
   "file_extension": ".py",
   "mimetype": "text/x-python",
   "name": "python",
   "nbconvert_exporter": "python",
   "pygments_lexer": "ipython3",
   "version": "3.7.3"
  }
 },
 "nbformat": 4,
 "nbformat_minor": 2
}
