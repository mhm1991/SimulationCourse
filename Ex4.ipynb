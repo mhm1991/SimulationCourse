{
 "cells": [
  {
   "cell_type": "code",
   "execution_count": 48,
   "metadata": {},
   "outputs": [
    {
     "data": {
      "image/png": "[encoded data removed]",
      "text/plain": [
       "<Figure size 432x288 with 1 Axes>"
      ]
     },
     "metadata": {
      "needs_background": "light"
     },
     "output_type": "display_data"
    }
   ],
   "source": [
    "import numpy as np\n",
    "import math as math\n",
    "import matplotlib.pyplot as plt\n",
    "from math import sqrt\n",
    "from random import seed\n",
    "from random import random\n",
    "from time import time\n",
    "import statistics as stat\n",
    "\n",
    "duration = 10**2\n",
    "ensemble_size = 10**2\n",
    "number_of_time_lapses = duration\n",
    "number_of_bins = number_of_time_lapses\n",
    "bx = 1\n",
    "by = 1\n",
    "b = 1\n",
    "plt.rc('text', usetex=True)\n",
    "fig = plt.figure()\n",
    "ax = fig.add_subplot(1, 1, 1)\n",
    "x = list(range(number_of_time_lapses))\n",
    "y = list(range(number_of_time_lapses))\n",
    "r = list(range(number_of_time_lapses))\n",
    "x[0] = 0\n",
    "y[0] = 0\n",
    "datax = []\n",
    "datay = []\n",
    "cord = [[]]\n",
    "\n",
    "def get_gyration_endtoend_radius(number_of_chains = 200,thetab =math.pi/3 ,show = False):\n",
    "    \n",
    "    global datax \n",
    "    global datay\n",
    "    global x,y,r\n",
    "    global Rg,Rf\n",
    "    global cord\n",
    "    Rg = list(range(ensemble_size))\n",
    "    Rf = list(range(ensemble_size))\n",
    "    x = list(range(number_of_chains))\n",
    "    y = list(range(number_of_chains))\n",
    "    r = list(range(number_of_chains))\n",
    "    x[0] = 0\n",
    "    x[1] = b\n",
    "    y[0] = 0\n",
    "    y[1] = 0\n",
    "    \n",
    "    datax = []\n",
    "    datay = []\n",
    "    Rf_sum = 0\n",
    "    for _iter in range(ensemble_size):\n",
    "        seed(_iter)\n",
    "        for i in range(1,number_of_chains-1):\n",
    "            r = random()\n",
    "            r = (math.floor(r - 0.5) + math.ceil(r - 0.5))\n",
    "            if (x[i] != x[i-1]):\n",
    "                theta = math.atan((y[i]-y[i-1])/(x[i]-x[i-1]))\n",
    "            else:\n",
    "                theta = math.pi/2\n",
    "                \n",
    "            if (theta == 0 and (x[i]-x[i-1]) > 0):\n",
    "                x[i+1] = x[i] + b*math.cos(r*thetab)\n",
    "                y[i+1] = y[i] + b*math.sin(r*thetab)\n",
    "            elif( theta == 0 and (x[i]-x[i-1]) < 0):\n",
    "                x[i+1] = x[i] + b*math.cos(math.pi + r*thetab)\n",
    "                y[i+1] = y[i] + b*math.sin(math.pi + r*thetab)\n",
    "            elif (theta < 0 and (y[i]-y[i-1])>0):\n",
    "                x[i+1] = x[i] + b*math.cos(math.pi+theta+r*thetab)\n",
    "                y[i+1] = y[i] + b*math.sin(math.pi+theta+r*thetab)\n",
    "            elif(theta < 0 and (y[i]-y[i-1])<0):\n",
    "                x[i+1] = x[i] + b*math.cos(theta+r*thetab)\n",
    "                y[i+1] = y[i] + b*math.sin(theta+r*thetab)\n",
    "            elif(theta > 0 and (y[i]-y[i-1])<0):\n",
    "                x[i+1] = x[i] + b*math.cos(math.pi+theta+r*thetab)\n",
    "                y[i+1] = y[i] + b*math.sin(math.pi+theta+r*thetab)\n",
    "            else:\n",
    "                x[i+1] = x[i] + b*math.cos(theta+r*thetab)\n",
    "                y[i+1] = y[i] + b*math.sin(theta+r*thetab)\n",
    "\n",
    "            datax.append(x[i])\n",
    "            datay.append(y[i])\n",
    "        for i in range(1,number_of_chains):\n",
    "            for j in range(1,number_of_chains):\n",
    "                Rf_sum += ((x[i]-x[i-1])*(x[j]-x[j-1])+(y[i]-y[i-1])*(y[j]-y[j-1]))\n",
    "        #Rg[_iter] = np.mean(r)\n",
    "        #Rf[_iter] = math.sqrt((x[number_of_chains-1] - x[1])**2+ (y[number_of_chains-1] - y[1])**2)\n",
    "                \n",
    "             \n",
    "    Rg_mean = 0\n",
    "    Rf_mean = Rf_sum/ensemble_size\n",
    "    #print(Rg_mean)\n",
    "    if (show == True):\n",
    "        handles, labels = ax.get_legend_handles_labels()\n",
    "        ax.legend(handles[::-1],labels[::-1],title ='Peclet Numbers',loc = 'upper left')\n",
    "        cord = np.empty((2,number_of_chains))\n",
    "        cord[0,:] = x\n",
    "        cord[1,:] = y\n",
    "    return (Rg_mean,Rf_mean)\n",
    "#avg_dist = dist_tau/avg_count\n",
    "#print(avg_dist)"
   ]
  },
  {
   "cell_type": "code",
   "execution_count": 115,
   "metadata": {},
   "outputs": [
    {
     "name": "stdout",
     "output_type": "stream",
     "text": [
      "159.28\n"
     ]
    }
   ],
   "source": [
    "Rg_mean,Rf_mean = get_gyration_endtoend_radius(200,math.pi/2,True)\n",
    "Rf_mean= Rf_mean\n",
    "print(Rf_mean)"
   ]
  },
  {
   "cell_type": "code",
   "execution_count": 116,
   "metadata": {},
   "outputs": [
    {
     "data": {
      "text/plain": [
       "Text(0.5, 1.0, 'Polymer Simulation with $\\\\theta_b$ $= \\\\pi/2$ and number of chains $= 200$')"
      ]
     },
     "execution_count": 116,
     "metadata": {},
     "output_type": "execute_result"
    },
    {
     "data": {
      "image/png": "[encoded data removed]",
      "text/plain": [
       "<Figure size 432x288 with 1 Axes>"
      ]
     },
     "metadata": {
      "needs_background": "light"
     },
     "output_type": "display_data"
    }
   ],
   "source": [
    "xlim = np.linspace(-30, 30, number_of_time_lapses)\n",
    "ylim = np.linspace(-30, 30, number_of_time_lapses)\n",
    "X, Y = np.meshgrid(xlim,ylim)\n",
    "#F = X**2 + Y**2 - math.sqrt(Rf_mean)**2\n",
    "\n",
    "fig, ax = plt.subplots()\n",
    "#ax.contour(X,Y,F,[0])\n",
    "ax.plot(cord[0],cord[1])\n",
    "ax.plot(cord[0,0],cord[1,0], 'go')\n",
    "ax.plot(cord[0,-1], cord[1,-1], 'ro')\n",
    "#demo = \"Averaged gyration radius of \"+str(ensemble_size)+\" Polymers\"\n",
    "#ax.annotate(demo, xy=(Rf_mean/sqrt(2), Rf_mean/sqrt(2)),  xycoords='data',\n",
    "#            xytext=(1, 1), textcoords='axes fraction',\n",
    "#            arrowprops=dict(facecolor='Orange', shrink=0.05),\n",
    "#            horizontalalignment='left', verticalalignment='top',\n",
    "#            )\n",
    "ax.axis('equal')\n",
    "ax.grid(True)\n",
    "plt.xlabel(\"$x$\")\n",
    "plt.ylabel(\"$y$\")\n",
    "plt.title('Polymer Simulation with $\\\\theta_b$ $= \\pi/2$ and number of chains $= 200$', fontsize=8)"
   ]
  },
  {
   "cell_type": "code",
   "execution_count": 70,
   "metadata": {},
   "outputs": [
    {
     "name": "stdout",
     "output_type": "stream",
     "text": [
      "1\n",
      "1\n",
      "1\n",
      "1\n",
      "1\n"
     ]
    }
   ],
   "source": [
    "#Finding the exponent of Rf vs. N by varying N\n",
    "\n",
    "N = [50,100,200,400,500]\n",
    "RfNs = []\n",
    "for n in N:\n",
    "    Rg_mean,Rf_mean = get_gyration_endtoend_radius(n,math.pi/3,False)\n",
    "    RfNs.append(math.sqrt(Rf_mean))\n"
   ]
  },
  {
   "cell_type": "code",
   "execution_count": 81,
   "metadata": {},
   "outputs": [
    {
     "name": "stdout",
     "output_type": "stream",
     "text": [
      "0.5151408203356931 0.4404894262373835\n"
     ]
    },
    {
     "data": {
      "image/png": "[encoded data removed]",
      "text/plain": [
       "<Figure size 432x288 with 1 Axes>"
      ]
     },
     "metadata": {
      "needs_background": "light"
     },
     "output_type": "display_data"
    }
   ],
   "source": [
    "plt.plot(np.log(N),np.log(RfNs),\"-o\",)\n",
    "\n",
    "plt.xlabel(\"$ln(N)$\")\n",
    "plt.ylabel(\"$ln(R_f)$\")\n",
    "m,n =  np.polyfit(np.log(N),np.log(RfNs),1)\n",
    "plt.plot(np.log(N),m*np.log(N)+n,\"r\")\n",
    "print (m , n)"
   ]
  },
  {
   "cell_type": "code",
   "execution_count": 108,
   "metadata": {},
   "outputs": [],
   "source": [
    "#Finding Rf^2/Nb^2 as function of bound angle\n",
    "\n",
    "Thetabs = [math.pi/6,math.pi/4,math.pi/3,math.pi/2]\n",
    "\n",
    "Rf2Nb2 = []\n",
    "\n",
    "for theta in Thetabs:\n",
    "    Rf2Nb2.append(get_gyration_endtoend_radius(200,theta,False)[1])\n",
    "\n"
   ]
  },
  {
   "cell_type": "code",
   "execution_count": 109,
   "metadata": {},
   "outputs": [
    {
     "data": {
      "text/plain": [
       "Text(0, 0.5, '$Rf^2/Nb^2$')"
      ]
     },
     "execution_count": 109,
     "metadata": {},
     "output_type": "execute_result"
    },
    {
     "data": {
      "image/png": "[encoded data removed]",
      "text/plain": [
       "<Figure size 432x288 with 1 Axes>"
      ]
     },
     "metadata": {
      "needs_background": "light"
     },
     "output_type": "display_data"
    }
   ],
   "source": [
    "plt.plot(math.pi - np.array(Thetabs),np.array(Rf2Nb2)/200,\"-o\",)\n",
    "\n",
    "plt.xlabel(\"$Bound angle = \\\\pi - \\\\theta_b $\")\n",
    "plt.ylabel(\"$Rf^2/Nb^2$\")\n"
   ]
  },
  {
   "cell_type": "code",
   "execution_count": 105,
   "metadata": {},
   "outputs": [
    {
     "name": "stderr",
     "output_type": "stream",
     "text": [
      "C:\\Users\\mhmas\\Anaconda3\\lib\\site-packages\\ipykernel_launcher.py:1: RuntimeWarning: divide by zero encountered in true_divide\n",
      "  \"\"\"Entry point for launching an IPython kernel.\n"
     ]
    },
    {
     "data": {
      "text/plain": [
       "Text(0, 0.5, '$(1+cos\\\\theta_b)/(1-cos\\\\theta_b)$')"
      ]
     },
     "execution_count": 105,
     "metadata": {},
     "output_type": "execute_result"
    },
    {
     "data": {
      "image/png": "[encoded data removed]",
      "text/plain": [
       "<Figure size 432x288 with 1 Axes>"
      ]
     },
     "metadata": {
      "needs_background": "light"
     },
     "output_type": "display_data"
    }
   ],
   "source": [
    "plt.plot(math.pi - np.array(Thetabs),(1+np.cos(Thetabs))/(1-np.cos(Thetabs)),\"-o\",)\n",
    "\n",
    "plt.xlabel(\"$Bound angle = \\\\pi - \\\\theta_b $\")\n",
    "plt.ylabel(\"$(1+cos\\\\theta_b)/(1-cos\\\\theta_b)$\")"
   ]
  },
  {
   "cell_type": "code",
   "execution_count": null,
   "metadata": {},
   "outputs": [],
   "source": []
  }
 ],
 "metadata": {
  "kernelspec": {
   "display_name": "Python 3",
   "language": "python",
   "name": "python3"
  },
  "language_info": {
   "codemirror_mode": {
    "name": "ipython",
    "version": 3
   },
   "file_extension": ".py",
   "mimetype": "text/x-python",
   "name": "python",
   "nbconvert_exporter": "python",
   "pygments_lexer": "ipython3",
   "version": "3.7.3"
  }
 },
 "nbformat": 4,
 "nbformat_minor": 2
}
